{
  "cells": [
    {
      "cell_type": "code",
      "source": [
        "import ee\n",
        "\n",
        "import pandas as pd \n",
        "import geopandas as gpd\n",
        "from shapely.geometry import Point\n",
        "from datetime import datetime, timedelta, date\n",
        "import matplotlib.pyplot as plt\n",
        "from sklearn.preprocessing import LabelEncoder\n",
        "from sklearn.model_selection import train_test_split\n",
        "\n",
        "from xgboost.sklearn import XGBClassifier\n",
        "from xgboost import plot_importance\n",
        "from sklearn.model_selection import GridSearchCV, RepeatedStratifiedKFold\n",
        "from sklearn.metrics import accuracy_score, confusion_matrix, make_scorer \n",
        "from sklearn.metrics import matthews_corrcoef, roc_auc_score, plot_confusion_matrix"
      ],
      "outputs": [],
      "execution_count": 2,
      "metadata": {
        "execution": {
          "shell.execute_reply": "2021-05-07T19:22:20.127Z",
          "iopub.status.busy": "2021-05-07T19:22:17.650Z",
          "iopub.execute_input": "2021-05-07T19:22:17.738Z",
          "iopub.status.idle": "2021-05-07T19:22:20.107Z"
        }
      }
    },
    {
      "cell_type": "markdown",
      "source": [
        "## Load Land Classification Data "
      ],
      "metadata": {}
    },
    {
      "cell_type": "code",
      "source": [
        "df = pd.read_csv(\"landclass_locust.csv\")\n",
        "df.head(5)"
      ],
      "outputs": [
        {
          "output_type": "execute_result",
          "execution_count": 3,
          "data": {
            "text/plain": "        lat       long       date  \\\n0 -0.559788  37.478215   4/7/2021   \n1 -2.441984  40.161785  7/13/2020   \n2 -0.651670  38.402958   4/4/2021   \n3 -0.610328  38.112466   2/5/2021   \n4  0.120728  37.069462  2/11/2021   \n\n                                                 lcc  \n0  Cultivated and managed vegetation/agriculture ...  \n1                               Open forest, unknown  \n2                                   Urban / built up  \n3  Cultivated and managed vegetation/agriculture ...  \n4  Cultivated and managed vegetation/agriculture ...  ",
            "text/html": "<div>\n<style scoped>\n    .dataframe tbody tr th:only-of-type {\n        vertical-align: middle;\n    }\n\n    .dataframe tbody tr th {\n        vertical-align: top;\n    }\n\n    .dataframe thead th {\n        text-align: right;\n    }\n</style>\n<table border=\"1\" class=\"dataframe\">\n  <thead>\n    <tr style=\"text-align: right;\">\n      <th></th>\n      <th>lat</th>\n      <th>long</th>\n      <th>date</th>\n      <th>lcc</th>\n    </tr>\n  </thead>\n  <tbody>\n    <tr>\n      <th>0</th>\n      <td>-0.559788</td>\n      <td>37.478215</td>\n      <td>4/7/2021</td>\n      <td>Cultivated and managed vegetation/agriculture ...</td>\n    </tr>\n    <tr>\n      <th>1</th>\n      <td>-2.441984</td>\n      <td>40.161785</td>\n      <td>7/13/2020</td>\n      <td>Open forest, unknown</td>\n    </tr>\n    <tr>\n      <th>2</th>\n      <td>-0.651670</td>\n      <td>38.402958</td>\n      <td>4/4/2021</td>\n      <td>Urban / built up</td>\n    </tr>\n    <tr>\n      <th>3</th>\n      <td>-0.610328</td>\n      <td>38.112466</td>\n      <td>2/5/2021</td>\n      <td>Cultivated and managed vegetation/agriculture ...</td>\n    </tr>\n    <tr>\n      <th>4</th>\n      <td>0.120728</td>\n      <td>37.069462</td>\n      <td>2/11/2021</td>\n      <td>Cultivated and managed vegetation/agriculture ...</td>\n    </tr>\n  </tbody>\n</table>\n</div>"
          },
          "metadata": {}
        }
      ],
      "execution_count": 3,
      "metadata": {
        "scrolled": true,
        "execution": {
          "iopub.status.busy": "2021-05-07T19:22:22.389Z",
          "iopub.execute_input": "2021-05-07T19:22:22.401Z",
          "iopub.status.idle": "2021-05-07T19:22:22.428Z",
          "shell.execute_reply": "2021-05-07T19:22:22.439Z"
        }
      }
    },
    {
      "cell_type": "markdown",
      "source": [
        "The `date` column needs to be parsed as a date object:"
      ],
      "metadata": {
        "nteract": {
          "transient": {
            "deleting": false
          }
        }
      }
    },
    {
      "cell_type": "code",
      "source": [
        "df['date'] = pd.DatetimeIndex(df['date'])\n",
        "df.head(5)"
      ],
      "outputs": [
        {
          "output_type": "execute_result",
          "execution_count": 5,
          "data": {
            "text/plain": "        lat       long       date  \\\n0 -0.559788  37.478215 2021-04-07   \n1 -2.441984  40.161785 2020-07-13   \n2 -0.651670  38.402958 2021-04-04   \n3 -0.610328  38.112466 2021-02-05   \n4  0.120728  37.069462 2021-02-11   \n\n                                                 lcc  \n0  Cultivated and managed vegetation/agriculture ...  \n1                               Open forest, unknown  \n2                                   Urban / built up  \n3  Cultivated and managed vegetation/agriculture ...  \n4  Cultivated and managed vegetation/agriculture ...  ",
            "text/html": "<div>\n<style scoped>\n    .dataframe tbody tr th:only-of-type {\n        vertical-align: middle;\n    }\n\n    .dataframe tbody tr th {\n        vertical-align: top;\n    }\n\n    .dataframe thead th {\n        text-align: right;\n    }\n</style>\n<table border=\"1\" class=\"dataframe\">\n  <thead>\n    <tr style=\"text-align: right;\">\n      <th></th>\n      <th>lat</th>\n      <th>long</th>\n      <th>date</th>\n      <th>lcc</th>\n    </tr>\n  </thead>\n  <tbody>\n    <tr>\n      <th>0</th>\n      <td>-0.559788</td>\n      <td>37.478215</td>\n      <td>2021-04-07</td>\n      <td>Cultivated and managed vegetation/agriculture ...</td>\n    </tr>\n    <tr>\n      <th>1</th>\n      <td>-2.441984</td>\n      <td>40.161785</td>\n      <td>2020-07-13</td>\n      <td>Open forest, unknown</td>\n    </tr>\n    <tr>\n      <th>2</th>\n      <td>-0.651670</td>\n      <td>38.402958</td>\n      <td>2021-04-04</td>\n      <td>Urban / built up</td>\n    </tr>\n    <tr>\n      <th>3</th>\n      <td>-0.610328</td>\n      <td>38.112466</td>\n      <td>2021-02-05</td>\n      <td>Cultivated and managed vegetation/agriculture ...</td>\n    </tr>\n    <tr>\n      <th>4</th>\n      <td>0.120728</td>\n      <td>37.069462</td>\n      <td>2021-02-11</td>\n      <td>Cultivated and managed vegetation/agriculture ...</td>\n    </tr>\n  </tbody>\n</table>\n</div>"
          },
          "metadata": {}
        }
      ],
      "execution_count": 5,
      "metadata": {
        "collapsed": true,
        "jupyter": {
          "source_hidden": false,
          "outputs_hidden": false
        },
        "nteract": {
          "transient": {
            "deleting": false
          }
        },
        "execution": {
          "iopub.status.busy": "2021-05-07T19:22:26.078Z",
          "iopub.execute_input": "2021-05-07T19:22:26.091Z",
          "iopub.status.idle": "2021-05-07T19:22:26.116Z",
          "shell.execute_reply": "2021-05-07T19:22:26.127Z"
        }
      }
    },
    {
      "cell_type": "markdown",
      "source": [
        "Count of Land Cover Classification (LCC) values:"
      ],
      "metadata": {
        "nteract": {
          "transient": {
            "deleting": false
          }
        }
      }
    },
    {
      "cell_type": "code",
      "source": [
        "df[\"lcc\"].value_counts()"
      ],
      "outputs": [
        {
          "output_type": "execute_result",
          "execution_count": 6,
          "data": {
            "text/plain": "Cultivated and managed vegetation/agriculture (cropland)    300\nOpen forest, unknown                                        300\nUrban / built up                                            300\nName: lcc, dtype: int64"
          },
          "metadata": {}
        }
      ],
      "execution_count": 6,
      "metadata": {
        "collapsed": true,
        "jupyter": {
          "source_hidden": false,
          "outputs_hidden": false
        },
        "nteract": {
          "transient": {
            "deleting": false
          }
        },
        "execution": {
          "iopub.status.busy": "2021-05-07T19:22:27.573Z",
          "iopub.execute_input": "2021-05-07T19:22:27.587Z",
          "iopub.status.idle": "2021-05-07T19:22:27.612Z",
          "shell.execute_reply": "2021-05-07T19:22:27.621Z"
        }
      }
    },
    {
      "cell_type": "markdown",
      "source": [
        "Plot the data in a map of Kenya"
      ],
      "metadata": {
        "nteract": {
          "transient": {
            "deleting": false
          }
        }
      }
    },
    {
      "cell_type": "code",
      "source": [
        "kenya = gpd.read_file(\"kenya_shapefile/County.shp\")\n",
        "gdf = gpd.GeoDataFrame(\n",
        "    df,\n",
        "    crs=4326,\n",
        "    geometry=[Point(xy) for xy in zip(df.long, df.lat)])\n",
        "\n",
        "fig, ax = plt.subplots(1, 1, figsize=(6, 10))\n",
        "\n",
        "kenya.plot(ax=ax, facecolor=\"none\", edgecolor='black', lw=0.7)\n",
        "gdf.plot(column=\"lcc\", ax=ax, legend=True)"
      ],
      "outputs": [
        {
          "output_type": "execute_result",
          "execution_count": 7,
          "data": {
            "text/plain": "<AxesSubplot:>"
          },
          "metadata": {}
        },
        {
          "output_type": "display_data",
          "data": {
            "text/plain": "<Figure size 432x720 with 1 Axes>",
            "image/png": "[encoded data removed]"
          },
          "metadata": {
            "needs_background": "light"
          }
        }
      ],
      "execution_count": 7,
      "metadata": {
        "execution": {
          "iopub.status.busy": "2021-05-07T19:22:30.560Z",
          "iopub.execute_input": "2021-05-07T19:22:30.602Z",
          "iopub.status.idle": "2021-05-07T19:22:31.383Z",
          "shell.execute_reply": "2021-05-07T19:22:31.411Z"
        }
      }
    },
    {
      "cell_type": "markdown",
      "source": [
        "## Extract Sentinel2 Band Values to Points"
      ],
      "metadata": {}
    },
    {
      "cell_type": "markdown",
      "source": [
        "The next several cells are *optional*. If you have a [Google Earth Engine (GEE) account](https://signup.earthengine.google.com/), you can run the code to login to GEE, download the Sentinel2 data, and convert it into a data frame. In the interest of time, we'll use cached data from a CSV file."
      ],
      "metadata": {
        "nteract": {
          "transient": {
            "deleting": false
          }
        }
      }
    },
    {
      "cell_type": "code",
      "source": [
        "ee.Authenticate()"
      ],
      "outputs": [],
      "execution_count": null,
      "metadata": {
        "execution": {
          "iopub.status.busy": "2021-05-07T19:24:49.146Z",
          "iopub.execute_input": "2021-05-07T19:24:49.160Z",
          "iopub.status.idle": "2021-05-07T19:24:59.740Z",
          "shell.execute_reply": "2021-05-07T19:24:59.765Z"
        }
      }
    },
    {
      "cell_type": "code",
      "source": [
        "ee.Initialize()"
      ],
      "outputs": [],
      "execution_count": 11,
      "metadata": {
        "collapsed": true,
        "jupyter": {
          "source_hidden": false,
          "outputs_hidden": false
        },
        "nteract": {
          "transient": {
            "deleting": false
          }
        },
        "execution": {
          "iopub.status.busy": "2021-05-07T19:25:01.656Z",
          "iopub.execute_input": "2021-05-07T19:25:01.672Z",
          "shell.execute_reply": "2021-05-07T19:25:02.492Z",
          "iopub.status.idle": "2021-05-07T19:25:02.505Z"
        }
      }
    },
    {
      "cell_type": "markdown",
      "source": [
        "Create two date columns to define the date period of the Sentinel2 images:"
      ],
      "metadata": {
        "nteract": {
          "transient": {
            "deleting": false
          }
        }
      }
    },
    {
      "cell_type": "code",
      "source": [
        "df['date_min'] = df['date'] -  pd.to_timedelta(16, unit='d')\n",
        "df['date_max'] = df['date'] +  pd.to_timedelta(16, unit='d')\n",
        "df.head()"
      ],
      "outputs": [
        {
          "output_type": "execute_result",
          "execution_count": 12,
          "data": {
            "text/plain": "        lat       long       date  \\\n0 -0.559788  37.478215 2021-04-07   \n1 -2.441984  40.161785 2020-07-13   \n2 -0.651670  38.402958 2021-04-04   \n3 -0.610328  38.112466 2021-02-05   \n4  0.120728  37.069462 2021-02-11   \n\n                                                 lcc  \\\n0  Cultivated and managed vegetation/agriculture ...   \n1                               Open forest, unknown   \n2                                   Urban / built up   \n3  Cultivated and managed vegetation/agriculture ...   \n4  Cultivated and managed vegetation/agriculture ...   \n\n                    geometry   date_min   date_max  \n0  POINT (37.47821 -0.55979) 2021-03-22 2021-04-23  \n1  POINT (40.16179 -2.44198) 2020-06-27 2020-07-29  \n2  POINT (38.40296 -0.65167) 2021-03-19 2021-04-20  \n3  POINT (38.11247 -0.61033) 2021-01-20 2021-02-21  \n4   POINT (37.06946 0.12073) 2021-01-26 2021-02-27  ",
            "text/html": "<div>\n<style scoped>\n    .dataframe tbody tr th:only-of-type {\n        vertical-align: middle;\n    }\n\n    .dataframe tbody tr th {\n        vertical-align: top;\n    }\n\n    .dataframe thead th {\n        text-align: right;\n    }\n</style>\n<table border=\"1\" class=\"dataframe\">\n  <thead>\n    <tr style=\"text-align: right;\">\n      <th></th>\n      <th>lat</th>\n      <th>long</th>\n      <th>date</th>\n      <th>lcc</th>\n      <th>geometry</th>\n      <th>date_min</th>\n      <th>date_max</th>\n    </tr>\n  </thead>\n  <tbody>\n    <tr>\n      <th>0</th>\n      <td>-0.559788</td>\n      <td>37.478215</td>\n      <td>2021-04-07</td>\n      <td>Cultivated and managed vegetation/agriculture ...</td>\n      <td>POINT (37.47821 -0.55979)</td>\n      <td>2021-03-22</td>\n      <td>2021-04-23</td>\n    </tr>\n    <tr>\n      <th>1</th>\n      <td>-2.441984</td>\n      <td>40.161785</td>\n      <td>2020-07-13</td>\n      <td>Open forest, unknown</td>\n      <td>POINT (40.16179 -2.44198)</td>\n      <td>2020-06-27</td>\n      <td>2020-07-29</td>\n    </tr>\n    <tr>\n      <th>2</th>\n      <td>-0.651670</td>\n      <td>38.402958</td>\n      <td>2021-04-04</td>\n      <td>Urban / built up</td>\n      <td>POINT (38.40296 -0.65167)</td>\n      <td>2021-03-19</td>\n      <td>2021-04-20</td>\n    </tr>\n    <tr>\n      <th>3</th>\n      <td>-0.610328</td>\n      <td>38.112466</td>\n      <td>2021-02-05</td>\n      <td>Cultivated and managed vegetation/agriculture ...</td>\n      <td>POINT (38.11247 -0.61033)</td>\n      <td>2021-01-20</td>\n      <td>2021-02-21</td>\n    </tr>\n    <tr>\n      <th>4</th>\n      <td>0.120728</td>\n      <td>37.069462</td>\n      <td>2021-02-11</td>\n      <td>Cultivated and managed vegetation/agriculture ...</td>\n      <td>POINT (37.06946 0.12073)</td>\n      <td>2021-01-26</td>\n      <td>2021-02-27</td>\n    </tr>\n  </tbody>\n</table>\n</div>"
          },
          "metadata": {}
        }
      ],
      "execution_count": 12,
      "metadata": {
        "execution": {
          "iopub.status.busy": "2021-05-07T19:25:04.856Z",
          "iopub.execute_input": "2021-05-07T19:25:04.867Z",
          "iopub.status.idle": "2021-05-07T19:25:04.893Z",
          "shell.execute_reply": "2021-05-07T19:25:04.905Z"
        }
      }
    },
    {
      "cell_type": "code",
      "source": [
        "def extract_to_point(x):\n",
        "    bands_s2 = [\"B11\", \"B12\", \"B2\", \"B3\", \"B4\", \"B5\", \"B6\", \"B7\", \"B8\", \"B8A\", \"B9\"]\n",
        "    lat = x[\"lat\"]\n",
        "    long = x[\"long\"]\n",
        "    p = ee.Geometry.Point([long,lat])\n",
        "    \n",
        "    # Select image based on following criteria:\n",
        "    # * within the date range we defined\n",
        "    # * sort all images by cloud cover \n",
        "    # * select images containing our point of image\n",
        "    # * least cloud-covered images\n",
        "    \n",
        "    img = ee.ImageCollection(\"COPERNICUS/S2_SR\") \\\n",
        "            .filterDate(x[\"date_min\"].strftime(\"%Y-%m-%d\"), x[\"date_max\"].strftime(\"%Y-%m-%d\")) \\\n",
        "            .sort(\"CLOUD_COVER\") \\\n",
        "            .filterBounds(p) \\\n",
        "            .first()\n",
        "    try: \n",
        "        # extract value from the above image to the point of interest\n",
        "        temp = img.select(bands_s2).sampleRegions(collection=p, scale=10, geometries=True)\n",
        "        info = temp.getInfo()\n",
        "        print(\"info: \", info)\n",
        "        print(\" \")\n",
        "        values = tt['features'][0]['properties']\n",
        "        print(\"values: \", values)\n",
        "        print(\" \")\n",
        "    except:\n",
        "        values = {\n",
        "          \"B11\": 0, \"B12\": 0, \"B2\": 0, \"B3\": 0, \"B4\": 0, \n",
        "          \"B5\": 0, \"B6\": 0, \"B7\": 0, \"B8\": 0, \"B8A\": 0, \n",
        "          \"B9\":0 }\n",
        "    return values"
      ],
      "outputs": [],
      "execution_count": 14,
      "metadata": {
        "execution": {
          "iopub.status.busy": "2021-05-07T19:25:16.891Z",
          "iopub.execute_input": "2021-05-07T19:25:16.904Z",
          "iopub.status.idle": "2021-05-07T19:25:16.923Z",
          "shell.execute_reply": "2021-05-07T19:25:16.935Z"
        }
      }
    },
    {
      "cell_type": "markdown",
      "source": [
        "DO NOT run the cell command for the interest of time."
      ],
      "metadata": {
        "nteract": {
          "transient": {
            "deleting": false
          }
        }
      }
    },
    {
      "cell_type": "code",
      "source": [
        "# result = df.apply(extract_to_point, axis=1, result_type=\"reduce\")\n",
        "# s2 = pd.DataFrame(result.tolist())\n",
        "# s2[\"lat\"] = df[\"lat\"]\n",
        "# s2[\"long\"] = df[\"long\"]\n",
        "# s2[\"date\"] = df[\"date\"]\n",
        "# s2[\"lcc\"] = df[\"lcc\"]"
      ],
      "outputs": [],
      "execution_count": null,
      "metadata": {
        "execution": {
          "iopub.status.busy": "2021-05-07T18:39:15.864Z",
          "iopub.execute_input": "2021-05-07T18:39:15.878Z"
        }
      }
    },
    {
      "cell_type": "markdown",
      "source": [
        "An example showing what extract_to_point function is doing:"
      ],
      "metadata": {
        "nteract": {
          "transient": {
            "deleting": false
          }
        }
      }
    },
    {
      "cell_type": "code",
      "source": [
        "example = df.iloc[3:5, :].apply(extract_to_point, axis=1, result_type=\"reduce\")\n",
        "example"
      ],
      "outputs": [
        {
          "output_type": "stream",
          "name": "stdout",
          "text": [
            "info:  {'type': 'FeatureCollection', 'columns': {}, 'properties': {'band_order': ['B11', 'B12', 'B2', 'B3', 'B4', 'B5', 'B6', 'B7', 'B8', 'B8A', 'B9']}, 'features': [{'type': 'Feature', 'geometry': {'geodesic': False, 'type': 'Point', 'coordinates': [38.11249945740845, -0.6103030751136557]}, 'id': '0_0', 'properties': {'B11': 5513, 'B12': 4047, 'B2': 8312, 'B3': 7856, 'B4': 7484, 'B5': 7680, 'B6': 7510, 'B7': 7600, 'B8': 7404, 'B8A': 7480, 'B9': 6623}}]}\n",
            " \n",
            "info:  {'type': 'FeatureCollection', 'columns': {}, 'properties': {'band_order': ['B11', 'B12', 'B2', 'B3', 'B4', 'B5', 'B6', 'B7', 'B8', 'B8A', 'B9']}, 'features': [{'type': 'Feature', 'geometry': {'geodesic': False, 'type': 'Point', 'coordinates': [37.0694261052473, 0.12075782690290773]}, 'id': '0_0', 'properties': {'B11': 2380, 'B12': 1587, 'B2': 518, 'B3': 739, 'B4': 929, 'B5': 1350, 'B6': 1918, 'B7': 2214, 'B8': 2194, 'B8A': 2425, 'B9': 2350}}]}\n",
            " \n"
          ]
        },
        {
          "output_type": "execute_result",
          "execution_count": 15,
          "data": {
            "text/plain": "3    {'B11': 0, 'B12': 0, 'B2': 0, 'B3': 0, 'B4': 0...\n4    {'B11': 0, 'B12': 0, 'B2': 0, 'B3': 0, 'B4': 0...\ndtype: object"
          },
          "metadata": {}
        }
      ],
      "execution_count": 15,
      "metadata": {
        "execution": {
          "iopub.status.busy": "2021-05-07T19:25:29.752Z",
          "iopub.execute_input": "2021-05-07T19:25:29.768Z",
          "iopub.status.idle": "2021-05-07T19:25:40.609Z",
          "shell.execute_reply": "2021-05-07T19:25:40.634Z"
        }
      }
    },
    {
      "cell_type": "markdown",
      "source": [
        "**Back to mandatory code**\n",
        "\n",
        "For the interest of time, use cached data for the s2 dataset."
      ],
      "metadata": {
        "nteract": {
          "transient": {
            "deleting": false
          }
        }
      }
    },
    {
      "cell_type": "code",
      "source": [
        "s2 = pd.read_csv(\"s2.csv\")\n",
        "display(s2.head(5))\n",
        "s2[\"NDVI\"] = (s2[\"B8\"] - s2[\"B4\"]) / (s2[\"B8\"] + s2[\"B4\"])\n",
        "s2.drop([\"lat\", \"long\", \"date\"], axis=1, inplace=True)\n",
        "lcc_code = {\n",
        "  \"Cultivated and managed vegetation/agriculture (cropland)\": 0, \n",
        "  \"Urban / built up\": 1, \n",
        "  \"Open forest, unknown\": 2\n",
        "}\n",
        "\n",
        "s2[\"lcc\"] = s2[\"lcc\"].map(lcc_code)\n",
        "\n",
        "s2.head(5)"
      ],
      "outputs": [
        {
          "output_type": "display_data",
          "data": {
            "text/plain": "    B11   B12    B2    B3    B4    B5    B6    B7    B8   B8A    B9  \\\n0  2392  2050   563   781  1204  1488  1995  2187  2195  2346  2440   \n1  2516  1747   306   684   635  1640  3075  3468  3276  3883  3652   \n2  5044  4512  3978  4042  4152  4386  4355  4456  4624  4654  6188   \n3  5513  4047  8312  7856  7484  7680  7510  7600  7404  7480  6623   \n4  2380  1587   518   739   929  1350  1918  2214  2194  2425  2350   \n\n                                                 lcc       lat       long  \\\n0  Cultivated and managed vegetation/agriculture ... -0.559788  37.478215   \n1                               Open forest, unknown -2.441984  40.161785   \n2                                   Urban / built up -0.651670  38.402958   \n3  Cultivated and managed vegetation/agriculture ... -0.610328  38.112466   \n4  Cultivated and managed vegetation/agriculture ...  0.120728  37.069462   \n\n         date  \n0  2021-04-07  \n1  2020-07-13  \n2  2021-04-04  \n3  2021-02-05  \n4  2021-02-11  ",
            "text/html": "<div>\n<style scoped>\n    .dataframe tbody tr th:only-of-type {\n        vertical-align: middle;\n    }\n\n    .dataframe tbody tr th {\n        vertical-align: top;\n    }\n\n    .dataframe thead th {\n        text-align: right;\n    }\n</style>\n<table border=\"1\" class=\"dataframe\">\n  <thead>\n    <tr style=\"text-align: right;\">\n      <th></th>\n      <th>B11</th>\n      <th>B12</th>\n      <th>B2</th>\n      <th>B3</th>\n      <th>B4</th>\n      <th>B5</th>\n      <th>B6</th>\n      <th>B7</th>\n      <th>B8</th>\n      <th>B8A</th>\n      <th>B9</th>\n      <th>lcc</th>\n      <th>lat</th>\n      <th>long</th>\n      <th>date</th>\n    </tr>\n  </thead>\n  <tbody>\n    <tr>\n      <th>0</th>\n      <td>2392</td>\n      <td>2050</td>\n      <td>563</td>\n      <td>781</td>\n      <td>1204</td>\n      <td>1488</td>\n      <td>1995</td>\n      <td>2187</td>\n      <td>2195</td>\n      <td>2346</td>\n      <td>2440</td>\n      <td>Cultivated and managed vegetation/agriculture ...</td>\n      <td>-0.559788</td>\n      <td>37.478215</td>\n      <td>2021-04-07</td>\n    </tr>\n    <tr>\n      <th>1</th>\n      <td>2516</td>\n      <td>1747</td>\n      <td>306</td>\n      <td>684</td>\n      <td>635</td>\n      <td>1640</td>\n      <td>3075</td>\n      <td>3468</td>\n      <td>3276</td>\n      <td>3883</td>\n      <td>3652</td>\n      <td>Open forest, unknown</td>\n      <td>-2.441984</td>\n      <td>40.161785</td>\n      <td>2020-07-13</td>\n    </tr>\n    <tr>\n      <th>2</th>\n      <td>5044</td>\n      <td>4512</td>\n      <td>3978</td>\n      <td>4042</td>\n      <td>4152</td>\n      <td>4386</td>\n      <td>4355</td>\n      <td>4456</td>\n      <td>4624</td>\n      <td>4654</td>\n      <td>6188</td>\n      <td>Urban / built up</td>\n      <td>-0.651670</td>\n      <td>38.402958</td>\n      <td>2021-04-04</td>\n    </tr>\n    <tr>\n      <th>3</th>\n      <td>5513</td>\n      <td>4047</td>\n      <td>8312</td>\n      <td>7856</td>\n      <td>7484</td>\n      <td>7680</td>\n      <td>7510</td>\n      <td>7600</td>\n      <td>7404</td>\n      <td>7480</td>\n      <td>6623</td>\n      <td>Cultivated and managed vegetation/agriculture ...</td>\n      <td>-0.610328</td>\n      <td>38.112466</td>\n      <td>2021-02-05</td>\n    </tr>\n    <tr>\n      <th>4</th>\n      <td>2380</td>\n      <td>1587</td>\n      <td>518</td>\n      <td>739</td>\n      <td>929</td>\n      <td>1350</td>\n      <td>1918</td>\n      <td>2214</td>\n      <td>2194</td>\n      <td>2425</td>\n      <td>2350</td>\n      <td>Cultivated and managed vegetation/agriculture ...</td>\n      <td>0.120728</td>\n      <td>37.069462</td>\n      <td>2021-02-11</td>\n    </tr>\n  </tbody>\n</table>\n</div>"
          },
          "metadata": {}
        },
        {
          "output_type": "display_data",
          "data": {
            "text/plain": "    B11   B12    B2    B3    B4    B5    B6    B7    B8   B8A    B9  lcc  \\\n0  2392  2050   563   781  1204  1488  1995  2187  2195  2346  2440    0   \n1  2516  1747   306   684   635  1640  3075  3468  3276  3883  3652    2   \n2  5044  4512  3978  4042  4152  4386  4355  4456  4624  4654  6188    1   \n3  5513  4047  8312  7856  7484  7680  7510  7600  7404  7480  6623    0   \n4  2380  1587   518   739   929  1350  1918  2214  2194  2425  2350    0   \n\n       NDVI  \n0  0.291556  \n1  0.675275  \n2  0.053783  \n3 -0.005373  \n4  0.405059  ",
            "text/html": "<div>\n<style scoped>\n    .dataframe tbody tr th:only-of-type {\n        vertical-align: middle;\n    }\n\n    .dataframe tbody tr th {\n        vertical-align: top;\n    }\n\n    .dataframe thead th {\n        text-align: right;\n    }\n</style>\n<table border=\"1\" class=\"dataframe\">\n  <thead>\n    <tr style=\"text-align: right;\">\n      <th></th>\n      <th>B11</th>\n      <th>B12</th>\n      <th>B2</th>\n      <th>B3</th>\n      <th>B4</th>\n      <th>B5</th>\n      <th>B6</th>\n      <th>B7</th>\n      <th>B8</th>\n      <th>B8A</th>\n      <th>B9</th>\n      <th>lcc</th>\n      <th>NDVI</th>\n    </tr>\n  </thead>\n  <tbody>\n    <tr>\n      <th>0</th>\n      <td>2392</td>\n      <td>2050</td>\n      <td>563</td>\n      <td>781</td>\n      <td>1204</td>\n      <td>1488</td>\n      <td>1995</td>\n      <td>2187</td>\n      <td>2195</td>\n      <td>2346</td>\n      <td>2440</td>\n      <td>0</td>\n      <td>0.291556</td>\n    </tr>\n    <tr>\n      <th>1</th>\n      <td>2516</td>\n      <td>1747</td>\n      <td>306</td>\n      <td>684</td>\n      <td>635</td>\n      <td>1640</td>\n      <td>3075</td>\n      <td>3468</td>\n      <td>3276</td>\n      <td>3883</td>\n      <td>3652</td>\n      <td>2</td>\n      <td>0.675275</td>\n    </tr>\n    <tr>\n      <th>2</th>\n      <td>5044</td>\n      <td>4512</td>\n      <td>3978</td>\n      <td>4042</td>\n      <td>4152</td>\n      <td>4386</td>\n      <td>4355</td>\n      <td>4456</td>\n      <td>4624</td>\n      <td>4654</td>\n      <td>6188</td>\n      <td>1</td>\n      <td>0.053783</td>\n    </tr>\n    <tr>\n      <th>3</th>\n      <td>5513</td>\n      <td>4047</td>\n      <td>8312</td>\n      <td>7856</td>\n      <td>7484</td>\n      <td>7680</td>\n      <td>7510</td>\n      <td>7600</td>\n      <td>7404</td>\n      <td>7480</td>\n      <td>6623</td>\n      <td>0</td>\n      <td>-0.005373</td>\n    </tr>\n    <tr>\n      <th>4</th>\n      <td>2380</td>\n      <td>1587</td>\n      <td>518</td>\n      <td>739</td>\n      <td>929</td>\n      <td>1350</td>\n      <td>1918</td>\n      <td>2214</td>\n      <td>2194</td>\n      <td>2425</td>\n      <td>2350</td>\n      <td>0</td>\n      <td>0.405059</td>\n    </tr>\n  </tbody>\n</table>\n</div>"
          },
          "metadata": {}
        }
      ],
      "execution_count": 16,
      "metadata": {
        "execution": {
          "iopub.status.busy": "2021-05-07T19:25:45.515Z",
          "iopub.execute_input": "2021-05-07T19:25:45.528Z",
          "iopub.status.idle": "2021-05-07T19:25:45.645Z",
          "shell.execute_reply": "2021-05-07T19:25:45.670Z"
        }
      }
    },
    {
      "cell_type": "markdown",
      "source": [
        "XGBoost Model \n",
        "\n",
        "Split X_train, X_test, y_train, y_test"
      ],
      "metadata": {}
    },
    {
      "cell_type": "code",
      "source": [
        "X = s2.drop([\"lcc\"], axis=1)\n",
        "y = s2[\"lcc\"]\n",
        "\n",
        "label_encoder = LabelEncoder()\n",
        "y = label_encoder.fit_transform(y)\n",
        "\n",
        "X_train, X_test, y_train, y_test = train_test_split(X, y, test_size=0.25, random_state=123)"
      ],
      "outputs": [
        {
          "output_type": "error",
          "ename": "SyntaxError",
          "evalue": "invalid syntax (<ipython-input-17-e5be79608bac>, line 1)",
          "traceback": [
            "\u001b[0;36m  File \u001b[0;32m\"<ipython-input-17-e5be79608bac>\"\u001b[0;36m, line \u001b[0;32m1\u001b[0m\n\u001b[0;31m    X = s2.drop([\"lcc\", axis=1)\u001b[0m\n\u001b[0m                            ^\u001b[0m\n\u001b[0;31mSyntaxError\u001b[0m\u001b[0;31m:\u001b[0m invalid syntax\n"
          ]
        }
      ],
      "execution_count": 17,
      "metadata": {
        "execution": {
          "iopub.status.busy": "2021-05-07T19:25:48.279Z",
          "iopub.execute_input": "2021-05-07T19:25:48.291Z"
        }
      }
    },
    {
      "cell_type": "markdown",
      "source": [
        "Define searching grids and other parameters in GridSearchCV"
      ],
      "metadata": {
        "nteract": {
          "transient": {
            "deleting": false
          }
        }
      }
    },
    {
      "cell_type": "code",
      "source": [
        "estimator = XGBClassifier(\n",
        "    objective=\"multi:softprob\",\n",
        "    tree_method=\"hist\",\n",
        "    seed=42,\n",
        "    nthread=-1,\n",
        ")\n",
        "\n",
        "kfold = RepeatedStratifiedKFold(n_splits=5, n_repeats=5, random_state=1234)\n",
        "\n",
        "parameters = {\n",
        "    #\"eta\" : [0.025, 0.5, 0.1],\n",
        "    \"max_depth\": [6, 8, 10],\n",
        "    \"n_estimators\": range(50, 100, 10),   \n",
        "    \"learning_rate\": [0.1, 0.01, 0.05],\n",
        "    #\"min_child_weight\": [1, 3, 5],\n",
        "    #\"gamma\": [0, 0.5, 1],\n",
        "    #\"subsample\": np.arange(0.6, 0.9, 0.1),\n",
        "    #\"colsample_bytree\": [0.5, 0.75, 1.0],\n",
        "    #\"reg_alpha\": [1e-5, 1e-2, 0.1, 1, 100]\n",
        "}\n",
        "\n",
        "fit_params = {\n",
        "    \"early_stopping_rounds\": 10,\n",
        "    #\"eval_metric\": \"mcc\",\n",
        "    'eval_set': [[X_test, y_test]]\n",
        "}\n",
        "\n",
        "mcc_scorer = make_scorer(matthews_corrcoef)\n",
        "\n",
        "grid_search = GridSearchCV(\n",
        "    estimator=estimator,\n",
        "    param_grid=parameters,\n",
        "    scoring=mcc_scorer,\n",
        "    cv=kfold,\n",
        "    verbose=True#,\n",
        "    #n_jobs=2 #-1\n",
        ")"
      ],
      "outputs": [],
      "execution_count": null,
      "metadata": {}
    },
    {
      "cell_type": "markdown",
      "source": [
        "Fit the model"
      ],
      "metadata": {
        "nteract": {
          "transient": {
            "deleting": false
          }
        }
      }
    },
    {
      "cell_type": "code",
      "source": [
        "grid_search.fit(X_train, y_train, **fit_params)"
      ],
      "outputs": [],
      "execution_count": null,
      "metadata": {}
    },
    {
      "cell_type": "markdown",
      "source": [
        "Let's see the best parameters found "
      ],
      "metadata": {
        "nteract": {
          "transient": {
            "deleting": false
          }
        }
      }
    },
    {
      "cell_type": "code",
      "source": [
        "grid_search.best_params_"
      ],
      "outputs": [],
      "execution_count": null,
      "metadata": {}
    },
    {
      "cell_type": "markdown",
      "source": [
        "Let's see the accuracy "
      ],
      "metadata": {
        "nteract": {
          "transient": {
            "deleting": false
          }
        }
      }
    },
    {
      "cell_type": "code",
      "source": [
        "accuracy_score(y_test, grid_search.predict(X_test))"
      ],
      "outputs": [],
      "execution_count": null,
      "metadata": {
        "scrolled": true
      }
    },
    {
      "cell_type": "markdown",
      "source": [
        "Let's see the confusion matrix"
      ],
      "metadata": {
        "nteract": {
          "transient": {
            "deleting": false
          }
        }
      }
    },
    {
      "cell_type": "code",
      "source": [
        "disp = plot_confusion_matrix(\n",
        "    grid_search, X_test, y_test, \n",
        "    cmap=plt.cm.Blues,\n",
        "    display_labels=[\"cropland\", \"urban\", \"forest\"])\n",
        "disp.ax_.set_title(\"XGBoost Confusion Matrix\")\n",
        "plt.show()"
      ],
      "outputs": [],
      "execution_count": null,
      "metadata": {}
    },
    {
      "cell_type": "markdown",
      "source": [
        "Feature importance"
      ],
      "metadata": {
        "nteract": {
          "transient": {
            "deleting": false
          }
        }
      }
    },
    {
      "cell_type": "code",
      "source": [
        "grid_search.best_estimator_.feature_importances_\n",
        "\n",
        "plt.bar(x=X_train.columns, height=grid_search.best_estimator_.feature_importances_)\n",
        "plt.title(\"Feature Importance\")\n",
        "plt.show()"
      ],
      "outputs": [],
      "execution_count": null,
      "metadata": {}
    },
    {
      "cell_type": "markdown",
      "source": [
        "Bonus: how to extract time-series Sentinel2 data to points\n",
        "\n",
        "First get a small subset of the entire dataset to save time"
      ],
      "metadata": {}
    },
    {
      "cell_type": "code",
      "source": [
        "df.sort_values(by=[\"date\"], inplace=True)\n",
        "subset = df.iloc[:5, :3]\n",
        "subset"
      ],
      "outputs": [],
      "execution_count": null,
      "metadata": {}
    },
    {
      "cell_type": "code",
      "source": [
        "bands_s2 = [\"B11\", \"B12\", \"B2\", \"B3\", \"B4\", \"B5\", \"B6\", \"B7\", \"B8\", \"B8A\", \"B9\"]\n",
        "\n",
        "def extract_timeseries_to_point(x):\n",
        "    lat = x[\"lat\"]\n",
        "    long = x[\"long\"]\n",
        "    p = ee.Geometry.Point([long,lat])\n",
        "    \n",
        "    # Create an image collection with 6-month's sentinel2 images, one for each month\n",
        "    d = x[\"date\"]\n",
        "    date_list = [(d + timedelta(30*i)).strftime('%Y-%m-%d') for i in range(-3, 4)]\n",
        "    image_ls = []\n",
        "    for i in range(0, 6):\n",
        "        s =  ee.ImageCollection(\"COPERNICUS/S2_SR\")\\\n",
        "               .filterDate(date_list[i], date_list[i+1])\\ \n",
        "               .sort(\"CLOUD_COVER\")\\\n",
        "               .filterBounds(p)\n",
        "               .first()\n",
        "        image_ls.append(s)\n",
        "    img_col = ee.ImageCollection(image_ls)\n",
        "    \n",
        "    # Extract values from the image collection to the point of interest and save to a csv\n",
        "    def extract(img):\n",
        "        return img.select(bands_s2).sampleRegions(collection=p, scale=10, geometries=True)\n",
        "    \n",
        "    newft = ee.FeatureCollection(img_col.map(extract)).flatten()\n",
        "    f = newft.getInfo()[\"features\"]\n",
        "    keys = f[0][\"properties\"].keys()\n",
        "    values = zip(\n",
        "      f[0][\"properties\"].values(),\n",
        "      f[1][\"properties\"].values(), \n",
        "      f[2][\"properties\"].values(),\n",
        "      f[3][\"properties\"].values(),\n",
        "      f[4][\"properties\"].values(),\n",
        "      f[5][\"properties\"].values())\n",
        "    dictionary = dict(zip(keys, values))\n",
        "    \n",
        "    display(pd.DataFrame.from_dict(dictionary))\n",
        "    pd.DataFrame.from_dict(dictionary).to_csv(f\"timeseries/df_{long}_{lat}_{d.strftime('%Y-%m-%d')}.csv\")\n",
        "    \n",
        "    return 1"
      ],
      "outputs": [],
      "execution_count": null,
      "metadata": {}
    },
    {
      "cell_type": "code",
      "source": [
        "subset.apply(extract_timeseries_to_point, axis=1)"
      ],
      "outputs": [],
      "execution_count": null,
      "metadata": {}
    }
  ],
  "metadata": {
    "kernelspec": {
      "display_name": "Python 3",
      "language": "python",
      "name": "python3"
    },
    "language_info": {
      "name": "python",
      "version": "3.8.5",
      "mimetype": "text/x-python",
      "codemirror_mode": {
        "name": "ipython",
        "version": 3
      },
      "pygments_lexer": "ipython3",
      "nbconvert_exporter": "python",
      "file_extension": ".py"
    },
    "nteract": {
      "version": "0.28.0"
    }
  },
  "nbformat": 4,
  "nbformat_minor": 4
}