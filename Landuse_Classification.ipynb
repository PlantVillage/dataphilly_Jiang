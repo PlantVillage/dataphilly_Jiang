{
  "cells": [
    {
      "cell_type": "markdown",
      "source": [
        "# Load required packages"
      ],
      "metadata": {}
    },
    {
      "cell_type": "code",
      "source": [
        "from datetime import datetime, timedelta, date\n",
        "\n",
        "import ee\n",
        "import pandas as pd \n",
        "import geopandas as gpd\n",
        "from shapely.geometry import Point\n",
        "\n",
        "import matplotlib.pyplot as plt\n",
        "from sklearn.preprocessing import LabelEncoder\n",
        "from sklearn.model_selection import train_test_split\n",
        "\n",
        "from xgboost.sklearn import XGBClassifier\n",
        "from xgboost import plot_importance\n",
        "from sklearn.model_selection import GridSearchCV, RepeatedStratifiedKFold\n",
        "from sklearn.metrics import accuracy_score, confusion_matrix, make_scorer \n",
        "from sklearn.metrics import matthews_corrcoef, roc_auc_score, plot_confusion_matrix"
      ],
      "outputs": [],
      "execution_count": null,
      "metadata": {
        "execution": {
          "iopub.status.busy": "2021-05-17T13:40:11.604Z",
          "iopub.execute_input": "2021-05-17T13:40:11.622Z",
          "iopub.status.idle": "2021-05-17T13:40:27.890Z",
          "shell.execute_reply": "2021-05-17T13:40:28.448Z"
        }
      }
    },
    {
      "cell_type": "markdown",
      "source": [
        "# Load Land Classification Data "
      ],
      "metadata": {}
    },
    {
      "cell_type": "code",
      "source": [
        "df = pd.read_csv('landclass_locust.csv')\n",
        "df.head(5)"
      ],
      "outputs": [],
      "execution_count": null,
      "metadata": {
        "scrolled": true,
        "execution": {
          "iopub.status.busy": "2021-05-17T13:40:27.913Z",
          "iopub.execute_input": "2021-05-17T13:40:27.926Z",
          "iopub.status.idle": "2021-05-17T13:40:28.046Z",
          "shell.execute_reply": "2021-05-17T13:40:28.458Z"
        }
      }
    },
    {
      "cell_type": "markdown",
      "source": [
        "The `date` column needs to be parsed as a date object:"
      ],
      "metadata": {}
    },
    {
      "cell_type": "code",
      "source": [
        "df['date'] = pd.DatetimeIndex(df['date'])\n",
        "df.head(5)"
      ],
      "outputs": [],
      "execution_count": null,
      "metadata": {
        "execution": {
          "iopub.status.busy": "2021-05-17T13:40:28.075Z",
          "iopub.execute_input": "2021-05-17T13:40:28.091Z",
          "iopub.status.idle": "2021-05-17T13:40:28.122Z",
          "shell.execute_reply": "2021-05-17T13:40:28.464Z"
        }
      }
    },
    {
      "cell_type": "markdown",
      "source": [
        "Count of Land Cover Classification (LCC) values:"
      ],
      "metadata": {}
    },
    {
      "cell_type": "code",
      "source": [
        "df['lcc'].value_counts()"
      ],
      "outputs": [],
      "execution_count": null,
      "metadata": {
        "execution": {
          "iopub.status.busy": "2021-05-17T13:40:32.102Z",
          "iopub.execute_input": "2021-05-17T13:40:32.115Z",
          "iopub.status.idle": "2021-05-17T13:40:32.218Z",
          "shell.execute_reply": "2021-05-17T13:40:32.231Z"
        }
      }
    },
    {
      "cell_type": "markdown",
      "source": [
        "Plot data in Kenya map\n"
      ],
      "metadata": {}
    },
    {
      "cell_type": "code",
      "source": [
        "kenya = gpd.read_file('kenya_shapefile/County.shp')\n",
        "gdf = gpd.GeoDataFrame(\n",
        "    df,\n",
        "    crs=4326,\n",
        "    geometry=[Point(xy) for xy in zip(df.long, df.lat)])\n",
        "\n",
        "\n",
        "fig, ax = plt.subplots(1, 1,figsize=(6, 10))\n",
        "\n",
        "kenya.plot(ax=ax, facecolor=\"none\", edgecolor='black', lw=0.7)#color = 'yellow')\n",
        "gdf.plot(column = 'lcc', ax = ax, legend=True)"
      ],
      "outputs": [],
      "execution_count": null,
      "metadata": {
        "execution": {
          "iopub.status.busy": "2021-05-17T13:40:54.732Z",
          "iopub.execute_input": "2021-05-17T13:40:54.764Z",
          "iopub.status.idle": "2021-05-17T13:40:55.370Z",
          "shell.execute_reply": "2021-05-17T13:40:55.397Z"
        }
      }
    },
    {
      "cell_type": "markdown",
      "source": [
        "# Extract Sentinel2 Band Values to Points"
      ],
      "metadata": {}
    },
    {
      "cell_type": "code",
      "source": [
        "The next several cells are *optional*. If you have a [Google Earth Engine (GEE) account](https://signup.earthengine.google.com/), you can run the code to login to GEE, download the Sentinel2 data, and convert it into a data frame. In the interest of time, we'll use cached data from a CSV file."
      ],
      "outputs": [],
      "execution_count": null,
      "metadata": {
        "collapsed": true,
        "jupyter": {
          "source_hidden": false,
          "outputs_hidden": false
        },
        "nteract": {
          "transient": {
            "deleting": false
          }
        }
      }
    },
    {
      "cell_type": "code",
      "source": [
        "ee.Authenticate()"
      ],
      "outputs": [],
      "execution_count": null,
      "metadata": {
        "collapsed": true,
        "jupyter": {
          "source_hidden": false,
          "outputs_hidden": false
        },
        "nteract": {
          "transient": {
            "deleting": false
          }
        },
        "execution": {
          "iopub.status.busy": "2021-05-17T13:41:07.356Z",
          "iopub.execute_input": "2021-05-17T13:41:07.372Z",
          "iopub.status.idle": "2021-05-17T13:41:24.432Z",
          "shell.execute_reply": "2021-05-17T13:41:24.475Z"
        }
      }
    },
    {
      "cell_type": "code",
      "source": [
        "ee.Initialize()"
      ],
      "outputs": [],
      "execution_count": null,
      "metadata": {
        "collapsed": true,
        "jupyter": {
          "source_hidden": false,
          "outputs_hidden": false
        },
        "nteract": {
          "transient": {
            "deleting": false
          }
        },
        "execution": {
          "iopub.status.busy": "2021-05-17T13:41:26.061Z",
          "iopub.execute_input": "2021-05-17T13:41:26.077Z",
          "iopub.status.idle": "2021-05-17T13:41:27.224Z",
          "shell.execute_reply": "2021-05-17T13:41:27.237Z"
        }
      }
    },
    {
      "cell_type": "markdown",
      "source": [
        "Create two date columns to define the date period of the Sentinel2 images"
      ],
      "metadata": {}
    },
    {
      "cell_type": "code",
      "source": [
        "df['date_min']= df['date'] -  pd.to_timedelta(16, unit='d')\n",
        "df['date_max']= df['date'] +  pd.to_timedelta(16, unit='d')\n",
        "df.head()"
      ],
      "outputs": [],
      "execution_count": null,
      "metadata": {
        "execution": {
          "iopub.status.busy": "2021-05-17T13:41:27.826Z",
          "iopub.execute_input": "2021-05-17T13:41:27.844Z",
          "iopub.status.idle": "2021-05-17T13:41:27.882Z",
          "shell.execute_reply": "2021-05-17T13:41:27.897Z"
        }
      }
    },
    {
      "cell_type": "code",
      "source": [
        "def extract_to_point(x):\n",
        "    bands_s2 = ['B11', 'B12', 'B2', 'B3', 'B4', 'B5', 'B6', 'B7', 'B8', 'B8A', 'B9']\n",
        "    lat = x['lat']\n",
        "    long = x['long']\n",
        "    p = ee.Geometry.Point([long, lat])\n",
        "    \n",
        "    #select image based on following criteria:\n",
        "    #* within the date range we defined\n",
        "    #* sort all images by cloud cover \n",
        "    #* select images containing our point of image\n",
        "    #* least cloud-covered images\n",
        "    \n",
        "    img = ee.ImageCollection('COPERNICUS/S2_SR') \\\n",
        "            .filterDate(x['date_min'].strftime('%Y-%m-%d'), x['date_max'].strftime('%Y-%m-%d')) \\\n",
        "            .sort('CLOUD_COVER') \\\n",
        "            .filterBounds(p) \\\n",
        "            .first()\n",
        "    try: \n",
        "        # extract value from the above image to the point of interest\n",
        "        temp = img.select(bands_s2).sampleRegions(collection=p, scale=10, geometries=True)\n",
        "        info = temp.getInfo()\n",
        "        print(\"info: \", info)\n",
        "        print(\" \")\n",
        "        values = info['features'][0]['properties']\n",
        "        print('values: ', values)\n",
        "        print(' ')\n",
        "    except:\n",
        "        values = {'B11':0, 'B12':0, 'B2':0, 'B3':0, 'B4':0, 'B5':0, 'B6':0, 'B7':0, 'B8':0, 'B8A':0, 'B9':0}\n",
        "    return values"
      ],
      "outputs": [],
      "execution_count": null,
      "metadata": {
        "execution": {
          "iopub.status.busy": "2021-05-17T13:41:30.389Z",
          "iopub.execute_input": "2021-05-17T13:41:30.404Z",
          "iopub.status.idle": "2021-05-17T13:41:30.427Z",
          "shell.execute_reply": "2021-05-17T13:41:30.440Z"
        }
      }
    },
    {
      "cell_type": "markdown",
      "source": [
        "DO NOT Run this command for the interest of time"
      ],
      "metadata": {}
    },
    {
      "cell_type": "code",
      "source": [
        "### result = df.apply(extract_to_point,axis=1,result_type='reduce')\n",
        "### s2=pd.DataFrame(result.tolist())\n",
        "### s2['lat']=df['lat']\n",
        "### s2['long']=df['long']\n",
        "### s2['date']=df['date']\n",
        "### s2['lcc']=df['lcc']"
      ],
      "outputs": [],
      "execution_count": null,
      "metadata": {}
    },
    {
      "cell_type": "markdown",
      "source": [
        "An example showing what extract_to_point function is doing"
      ],
      "metadata": {}
    },
    {
      "cell_type": "code",
      "source": [
        "example = df.iloc[3:5, :].apply(extract_to_point, axis=1, result_type='reduce')\n",
        "example"
      ],
      "outputs": [],
      "execution_count": null,
      "metadata": {
        "execution": {
          "iopub.status.busy": "2021-05-17T13:41:38.334Z",
          "iopub.execute_input": "2021-05-17T13:41:38.363Z",
          "iopub.status.idle": "2021-05-17T13:41:38.644Z",
          "shell.execute_reply": "2021-05-17T13:41:38.678Z"
        }
      }
    },
    {
      "cell_type": "markdown",
      "source": [
        "**Back to mandatory code**\n",
        "\n",
        "For the interest of time, use cached data for the s2 dataset."
      ],
      "metadata": {}
    },
    {
      "cell_type": "code",
      "source": [
        "s2 = pd.read_csv('s2.csv')\n",
        "display(s2.head(5))\n",
        "s2['NDVI'] = (s2['B8'] - s2['B4']) / (s2['B8'] + s2['B4'])\n",
        "s2.drop(['lat', 'long', 'date'], axis=1, inplace=True)\n",
        "lcc_code = {\n",
        "  'Cultivated and managed vegetation/agriculture (cropland)': 0, \n",
        "  'Urban / built up': 1, \n",
        "  'Open forest, unknown': 2\n",
        "}\n",
        "\n",
        "s2['lcc'] = s2['lcc'].map(lcc_code)\n",
        "\n",
        "display(s2.head(5))"
      ],
      "outputs": [],
      "execution_count": null,
      "metadata": {
        "execution": {
          "iopub.status.busy": "2021-05-17T13:41:42.248Z",
          "iopub.execute_input": "2021-05-17T13:41:42.259Z",
          "iopub.status.idle": "2021-05-17T13:41:43.669Z",
          "shell.execute_reply": "2021-05-17T13:41:43.693Z"
        }
      }
    },
    {
      "cell_type": "markdown",
      "source": [
        "# XGBoost Model "
      ],
      "metadata": {}
    },
    {
      "cell_type": "markdown",
      "source": [
        "Split X_train, X_test, y_train, y_test"
      ],
      "metadata": {}
    },
    {
      "cell_type": "code",
      "source": [
        "X = s2.drop(['lcc'], axis=1)\n",
        "y = s2['lcc']\n",
        "\n",
        "label_encoder = LabelEncoder()\n",
        "y = label_encoder.fit_transform(y)\n",
        "\n",
        "X_train, X_test, y_train, y_test = train_test_split(X, y, test_size=0.25, random_state=123)"
      ],
      "outputs": [],
      "execution_count": null,
      "metadata": {
        "execution": {
          "iopub.status.busy": "2021-05-17T13:41:49.429Z",
          "iopub.execute_input": "2021-05-17T13:41:49.448Z",
          "iopub.status.idle": "2021-05-17T13:41:49.471Z",
          "shell.execute_reply": "2021-05-17T13:41:49.488Z"
        }
      }
    },
    {
      "cell_type": "markdown",
      "source": [
        "Define searching grids and other parameters in GridSearchCV"
      ],
      "metadata": {}
    },
    {
      "cell_type": "code",
      "source": [
        "estimator = XGBClassifier(\n",
        "    objective=\"multi:softprob\",\n",
        "    tree_method=\"hist\",\n",
        "    seed=42,\n",
        "    nthread=-1,\n",
        ")\n",
        "\n",
        "kfold = RepeatedStratifiedKFold(n_splits=3, n_repeats=2, random_state=1234)\n",
        "\n",
        "parameters = {\n",
        "    #'eta' : [0.025, 0.5, 0.1],\n",
        "    'max_depth': [6, 8, 10],\n",
        "    'n_estimators': range(80, 100, 10),   \n",
        "    'learning_rate': [0.1, 0.01, 0.05],\n",
        "    #'min_child_weight': [1, 3, 5],\n",
        "    #'gamma': [0, 0.5, 1],\n",
        "    #'subsample': np.arange(0.6, 0.9, 0.1),\n",
        "    #'colsample_bytree':[0.5, 0.75, 1.0],\n",
        "    #'reg_alpha':[1e-5, 1e-2, 0.1, 1, 100]\n",
        "}\n",
        "\n",
        "fit_params = {\n",
        "    'early_stopping_rounds': 10,\n",
        "    'eval_set': [[X_test, y_test]]\n",
        "}\n",
        "\n",
        "mcc_scorer = make_scorer(matthews_corrcoef)\n",
        "\n",
        "grid_search = GridSearchCV(\n",
        "    estimator=estimator,\n",
        "    param_grid=parameters,\n",
        "    scoring=mcc_scorer,\n",
        "    cv=kfold,\n",
        "    verbose=True\n",
        ")"
      ],
      "outputs": [],
      "execution_count": null,
      "metadata": {
        "execution": {
          "iopub.status.busy": "2021-05-17T13:42:58.331Z",
          "iopub.execute_input": "2021-05-17T13:42:58.346Z",
          "iopub.status.idle": "2021-05-17T13:42:58.375Z",
          "shell.execute_reply": "2021-05-17T13:42:58.390Z"
        }
      }
    },
    {
      "cell_type": "markdown",
      "source": [
        "Fit the model"
      ],
      "metadata": {}
    },
    {
      "cell_type": "code",
      "source": [
        "grid_search.fit(X_train, y_train, **fit_params)"
      ],
      "outputs": [],
      "execution_count": null,
      "metadata": {
        "execution": {
          "iopub.status.busy": "2021-05-17T13:43:01.393Z",
          "iopub.execute_input": "2021-05-17T13:43:01.410Z",
          "iopub.status.idle": "2021-05-17T13:44:43.910Z",
          "shell.execute_reply": "2021-05-17T13:44:45.637Z"
        }
      }
    },
    {
      "cell_type": "markdown",
      "source": [
        "Let's see the best parameters found "
      ],
      "metadata": {}
    },
    {
      "cell_type": "code",
      "source": [
        "grid_search.best_params_"
      ],
      "outputs": [],
      "execution_count": null,
      "metadata": {
        "execution": {
          "iopub.status.busy": "2021-05-17T13:46:54.341Z",
          "iopub.execute_input": "2021-05-17T13:46:54.363Z",
          "iopub.status.idle": "2021-05-17T13:46:54.409Z",
          "shell.execute_reply": "2021-05-17T13:46:54.428Z"
        }
      }
    },
    {
      "cell_type": "markdown",
      "source": [
        "Let's see the accuracy "
      ],
      "metadata": {}
    },
    {
      "cell_type": "code",
      "source": [
        "accuracy_score(y_test, grid_search.predict(X_test))"
      ],
      "outputs": [],
      "execution_count": null,
      "metadata": {
        "scrolled": true,
        "execution": {
          "iopub.status.busy": "2021-05-17T13:46:57.617Z",
          "iopub.execute_input": "2021-05-17T13:46:57.636Z",
          "iopub.status.idle": "2021-05-17T13:46:57.687Z",
          "shell.execute_reply": "2021-05-17T13:46:57.707Z"
        }
      }
    },
    {
      "cell_type": "markdown",
      "source": [
        "Let's see the confusion matrix"
      ],
      "metadata": {}
    },
    {
      "cell_type": "code",
      "source": [
        "disp = plot_confusion_matrix(\n",
        "    grid_search, X_test, y_test, \n",
        "    cmap=plt.cm.Blues,\n",
        "    display_labels=['cropland', 'Urban', 'forest'])\n",
        "disp.ax_.set_title(\"XGBoost Confusion Matrix\")\n",
        "plt.show()"
      ],
      "outputs": [],
      "execution_count": null,
      "metadata": {
        "execution": {
          "iopub.status.busy": "2021-05-17T13:47:00.249Z",
          "iopub.execute_input": "2021-05-17T13:47:00.267Z",
          "iopub.status.idle": "2021-05-17T13:47:00.494Z",
          "shell.execute_reply": "2021-05-17T13:47:00.530Z"
        }
      }
    },
    {
      "cell_type": "markdown",
      "source": [
        "Feature importance"
      ],
      "metadata": {}
    },
    {
      "cell_type": "code",
      "source": [
        "grid_search.best_estimator_.feature_importances_\n",
        "\n",
        "plt.bar(x = X_train.columns, height = grid_search.best_estimator_.feature_importances_)\n",
        "plt.title(\"Feature Importance\")\n",
        "plt.show()\n"
      ],
      "outputs": [],
      "execution_count": null,
      "metadata": {
        "execution": {
          "iopub.status.busy": "2021-05-17T13:47:02.925Z",
          "iopub.execute_input": "2021-05-17T13:47:02.941Z",
          "iopub.status.idle": "2021-05-17T13:47:03.306Z",
          "shell.execute_reply": "2021-05-17T13:47:03.336Z"
        }
      }
    },
    {
      "cell_type": "markdown",
      "source": [
        "## Bonus: how to extract time-series Sentinel2 data to points"
      ],
      "metadata": {}
    },
    {
      "cell_type": "markdown",
      "source": [
        "First get a small subset of the entire dataset to save time"
      ],
      "metadata": {}
    },
    {
      "cell_type": "code",
      "source": [
        "df.sort_values(by=['date'], inplace=True)\n",
        "subset = df.iloc[:5, :3]\n",
        "subset"
      ],
      "outputs": [],
      "execution_count": null,
      "metadata": {
        "execution": {
          "iopub.status.busy": "2021-05-17T13:47:20.832Z",
          "iopub.execute_input": "2021-05-17T13:47:20.852Z",
          "iopub.status.idle": "2021-05-17T13:47:20.894Z",
          "shell.execute_reply": "2021-05-17T13:47:20.931Z"
        }
      }
    },
    {
      "cell_type": "code",
      "source": [
        "bands_s2 = [\"B11\", \"B12\", \"B2\", \"B3\", \"B4\", \"B5\", \"B6\", \"B7\", \"B8\", \"B8A\", \"B9\"]\n",
        "\n",
        "def extract_timeseries_to_point(x):\n",
        "    lat = x[\"lat\"]\n",
        "    long = x[\"long\"]\n",
        "    p = ee.Geometry.Point([long,lat])\n",
        "    \n",
        "    # Create an image collection with 6-month's sentinel2 images, one for each month\n",
        "    d = x[\"date\"]\n",
        "    date_list = [(d + timedelta(30*i)).strftime('%Y-%m-%d') for i in range(-3, 4)]\n",
        "    image_ls = []\n",
        "    for i in range(0, 6):\n",
        "        s =  ee.ImageCollection(\"COPERNICUS/S2_SR\")\\\n",
        "               .filterDate(date_list[i], date_list[i+1]) \\\n",
        "               .sort(\"CLOUD_COVER\") \\\n",
        "               .filterBounds(p) \\\n",
        "               .first()\n",
        "        image_ls.append(s)\n",
        "    img_col = ee.ImageCollection(image_ls)\n",
        "    \n",
        "    # Extract values from the image collection to the point of interest and save to a csv\n",
        "    def extract(img):\n",
        "        return img.select(bands_s2).sampleRegions(collection=p, scale=10, geometries=True)\n",
        "    \n",
        "    newft = ee.FeatureCollection(img_col.map(extract)).flatten()\n",
        "    f = newft.getInfo()[\"features\"]\n",
        "    keys = f[0][\"properties\"].keys()\n",
        "    values = zip(\n",
        "      f[0][\"properties\"].values(),\n",
        "      f[1][\"properties\"].values(), \n",
        "      f[2][\"properties\"].values(),\n",
        "      f[3][\"properties\"].values(),\n",
        "      f[4][\"properties\"].values(),\n",
        "      f[5][\"properties\"].values())\n",
        "    dictionary = dict(zip(keys, values))\n",
        "    \n",
        "    display(pd.DataFrame.from_dict(dictionary))\n",
        "    pd.DataFrame.from_dict(dictionary).to_csv(f\"timeseries/df_{long}_{lat}_{d.strftime('%Y-%m-%d')}.csv\")\n",
        "    "
      ],
      "outputs": [],
      "execution_count": null,
      "metadata": {
        "execution": {
          "iopub.status.busy": "2021-05-17T13:50:37.877Z",
          "iopub.execute_input": "2021-05-17T13:50:37.895Z",
          "iopub.status.idle": "2021-05-17T13:50:37.923Z",
          "shell.execute_reply": "2021-05-17T13:50:37.942Z"
        }
      }
    },
    {
      "cell_type": "code",
      "source": [
        "subset.apply(extract_timeseries_to_point, axis=1)"
      ],
      "outputs": [],
      "execution_count": null,
      "metadata": {
        "execution": {
          "iopub.status.busy": "2021-05-17T13:48:46.014Z",
          "iopub.execute_input": "2021-05-17T13:48:46.036Z",
          "iopub.status.idle": "2021-05-17T13:48:50.652Z",
          "shell.execute_reply": "2021-05-17T13:48:50.703Z"
        }
      }
    }
  ],
  "metadata": {
    "kernelspec": {
      "display_name": "Python 3",
      "language": "python",
      "name": "python3"
    },
    "language_info": {
      "name": "python",
      "version": "3.8.5",
      "mimetype": "text/x-python",
      "codemirror_mode": {
        "name": "ipython",
        "version": 3
      },
      "pygments_lexer": "ipython3",
      "nbconvert_exporter": "python",
      "file_extension": ".py"
    },
    "nteract": {
      "version": "0.28.0"
    }
  },
  "nbformat": 4,
  "nbformat_minor": 4
}
